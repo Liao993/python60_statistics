{
 "cells": [
  {
   "cell_type": "markdown",
   "metadata": {},
   "source": [
    "## 作業:\n",
    "今天學到不同統計量之間特性，  \n",
    "試著分析男生女生身高資料，  \n",
    "試著回答下面的問題:  \n",
    "Q1:試著用今天所教的內容，如何描述這兩組資料的樣態?    \n",
    "Q2: 請問男生和女生在平均身高上誰比較高?   \n",
    "Q3:請問第二題的答案和日常生活中觀察的一致嗎? 如果不一致，你覺得原因可能為何?    \n",
    "上述問題透過  python 語法進行運算，\n",
    "並將上述答案填寫在 (google 表單)[https://forms.gle/EDdU2Zfq8zLvDea18]\n",
    "![](作業資料圖檔.PNG)"
   ]
  },
  {
   "cell_type": "code",
   "execution_count": 2,
   "metadata": {
    "colab": {
     "base_uri": "https://localhost:8080/",
     "height": 34
    },
    "colab_type": "code",
    "executionInfo": {
     "elapsed": 1558,
     "status": "ok",
     "timestamp": 1578021044012,
     "user": {
      "displayName": "Mora chen",
      "photoUrl": "https://lh3.googleusercontent.com/a-/AAuE7mB40f7sDArbZ5_DYq02nNcnLD0Ryaf7AhsASSQeLQ=s64",
      "userId": "03171203089166907199"
     },
     "user_tz": -480
    },
    "id": "yz28_IgkYdBW",
    "outputId": "a12f486c-18b3-4fb5-d06c-f162aebd9444"
   },
   "outputs": [],
   "source": [
    "# library\n",
    "import matplotlib.pyplot as plt\n",
    "import numpy as np\n",
    "import pandas as pd\n",
    "from scipy import stats\n",
    "import math\n",
    "import statistics\n",
    "import seaborn as sns"
   ]
  },
  {
   "cell_type": "code",
   "execution_count": 7,
   "metadata": {},
   "outputs": [],
   "source": [
    "## 輸入資料\n",
    "'''\n",
    "你的程式碼\n",
    "'''\n",
    "boys=[164, 176, 169, 169, 165, 175, 159, 151, 144, 160, 183, 165, 156, 170,\n",
    " 164, 173, 165, 163, 177, 171]\n",
    "girls = [169,170,162,154,183,173,169,167,170,185,162,175,168,151,181,170,\n",
    "        182,156,159,160]"
   ]
  },
  {
   "cell_type": "code",
   "execution_count": 12,
   "metadata": {},
   "outputs": [
    {
     "name": "stdout",
     "output_type": "stream",
     "text": [
      "boys_mean : 165.95\n",
      "boys_median : 165.0\n",
      "boys_mode : 165\n",
      "boys_var : 84.89210526315789\n",
      "boys_std : 8.980395314238677\n",
      "boys_skew : -0.47132127317376954\n",
      "boys_kurtosis : 0.19395882957876331\n",
      "---\n",
      "girls_mean : 168.3\n",
      "girls_median : 169.0\n",
      "girls_mode : 170\n",
      "girls_var : 95.37894736842105\n",
      "girls_std : 9.766214587465353\n",
      "girls_skew : 0.059853211293650746\n",
      "girls_kurtosis : -0.8203607083948947\n"
     ]
    }
   ],
   "source": [
    "#Q1:試著用今天所教的內容，如何描述這兩組資料的樣態?\n",
    "#暗示:  分別計算男生和女生的統計量\n",
    "'''\n",
    "你的答案\n",
    "'''\n",
    "print('boys_mean :',np.mean(boys))\n",
    "print('boys_median :',np.median(boys))\n",
    "print('boys_mode :',stats.mode(boys,axis=None)[0][0])\n",
    "print('boys_var :',np.var(boys,ddof=1))\n",
    "print('boys_std :',np.std(boys))\n",
    "print('boys_skew :',stats.skew(boys))\n",
    "print('boys_kurtosis :',stats.kurtosis(boys))\n",
    "print('---')\n",
    "print('girls_mean :',statistics.mean(girls))\n",
    "print('girls_median :',statistics.median(girls))\n",
    "print('girls_mode :',statistics.mode(girls))\n",
    "print('girls_var :',statistics.variance(girls))\n",
    "print('girls_std :',statistics.stdev(girls))\n",
    "print('girls_skew :',stats.skew(girls))\n",
    "print('girls_kurtosis :',stats.kurtosis(girls))"
   ]
  },
  {
   "cell_type": "code",
   "execution_count": 35,
   "metadata": {},
   "outputs": [
    {
     "data": {
      "text/plain": [
       "Text(0.5, 1.0, 'boy,skewness=-0.47,kurtosis=0.19 | girl,skewness=0.06,kurtosis=-0.82')"
      ]
     },
     "execution_count": 35,
     "metadata": {},
     "output_type": "execute_result"
    },
    {
     "data": {
      "image/png": "[encoded data removed]",
      "text/plain": [
       "<Figure size 432x288 with 1 Axes>"
      ]
     },
     "metadata": {
      "needs_background": "light"
     },
     "output_type": "display_data"
    }
   ],
   "source": [
    "\n",
    "plt.hist(boys,alpha=0.5,bins=40)\n",
    "plt.axvline(np.mean(boys),color='green')\n",
    "\n",
    "plt.hist(girls,alpha=0.5,bins=40)\n",
    "plt.axvline(statistics.mean(girls),color='red')\n",
    "plt.title('boy,skewness={0},kurtosis={1} | girl,skewness={2},kurtosis={3}'.\n",
    "          format(round(stats.skew(boys),2),round(stats.kurtosis(boys),2),\n",
    "                round(stats.skew(girls),2),round(stats.kurtosis(girls),2)\n",
    "                )\n",
    "         )"
   ]
  },
  {
   "cell_type": "markdown",
   "metadata": {},
   "source": [
    "#Q2: 請問男生和女生在平均身高上誰比較高? \n",
    "\n",
    "Ans : girls"
   ]
  },
  {
   "cell_type": "markdown",
   "metadata": {},
   "source": [
    "#Q3:請問第二題的答案和日常生活中觀察的一致嗎? 如果不一致，你覺得原因可能為何? \n",
    "\n",
    "Ans: the answer of question 2 is not equal to real stituation. The reason for this is the error of sampling."
   ]
  },
  {
   "cell_type": "code",
   "execution_count": null,
   "metadata": {},
   "outputs": [],
   "source": []
  }
 ],
 "metadata": {
  "colab": {
   "name": "Day33.YOLO 細節理解 - 網路輸出的後處理_HW.ipynb",
   "provenance": []
  },
  "kernelspec": {
   "display_name": "Python 3",
   "language": "python",
   "name": "python3"
  },
  "language_info": {
   "codemirror_mode": {
    "name": "ipython",
    "version": 3
   },
   "file_extension": ".py",
   "mimetype": "text/x-python",
   "name": "python",
   "nbconvert_exporter": "python",
   "pygments_lexer": "ipython3",
   "version": "3.8.3"
  },
  "toc": {
   "base_numbering": 1,
   "nav_menu": {},
   "number_sections": true,
   "sideBar": true,
   "skip_h1_title": false,
   "title_cell": "Table of Contents",
   "title_sidebar": "Contents",
   "toc_cell": false,
   "toc_position": {},
   "toc_section_display": true,
   "toc_window_display": false
  }
 },
 "nbformat": 4,
 "nbformat_minor": 1
}
